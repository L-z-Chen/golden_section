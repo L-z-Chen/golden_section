{
 "cells": [
  {
   "cell_type": "code",
   "execution_count": 5,
   "metadata": {},
   "outputs": [
    {
     "name": "stdout",
     "output_type": "stream",
     "text": [
      "{'optimizer_name': 'SoftSign', 'optimizer_class': <class 'opt.SoftSign'>, 'hyperparameters': {'lr': [-5.0, -2.0], 'beta': [0.6, 0.99], 'eps': [-12.3, -1.0], 'weight_decay': [-3.0, -0.7], 'correct_bias': True}}\n"
     ]
    }
   ],
   "source": [
    "import ast\n",
    "import importlib.util\n",
    "import os\n",
    "\n",
    "def extract_optimizer_info_from_file(file_path: str):\n",
    "    # Load source code and parse AST\n",
    "    with open(file_path, \"r\", encoding=\"utf-8\") as f:\n",
    "        code = f.read()\n",
    "    tree = ast.parse(code)\n",
    "\n",
    "    optimizer_name = None\n",
    "    hyperparams = {}\n",
    "\n",
    "    for node in ast.walk(tree):\n",
    "        if isinstance(node, ast.ClassDef):\n",
    "            if any(isinstance(base, ast.Name) and base.id == 'Optimizer' for base in node.bases):\n",
    "                optimizer_name = node.name\n",
    "\n",
    "                for item in node.body:\n",
    "                    if isinstance(item, ast.FunctionDef) and item.name == \"__init__\":\n",
    "                        args = item.args\n",
    "                        param_names = [arg.arg for arg in args.args[2:]]\n",
    "                        defaults = args.defaults\n",
    "                        start = len(param_names) - len(defaults)\n",
    "\n",
    "                        for i, default in enumerate(defaults):\n",
    "                            param_name = param_names[start + i]\n",
    "                            try:\n",
    "                                value = ast.literal_eval(default)\n",
    "                            except Exception:\n",
    "                                value = ast.unparse(default) if hasattr(ast, 'unparse') else str(default)\n",
    "                            hyperparams[param_name] = value\n",
    "                break\n",
    "\n",
    "    # Dynamically import the module and get the class\n",
    "    module_name = os.path.splitext(os.path.basename(file_path))[0]\n",
    "    spec = importlib.util.spec_from_file_location(module_name, file_path)\n",
    "    mod = importlib.util.module_from_spec(spec)\n",
    "    spec.loader.exec_module(mod)\n",
    "\n",
    "    optimizer_class = getattr(mod, optimizer_name)\n",
    "\n",
    "    return {\n",
    "        \"optimizer_name\": optimizer_name,\n",
    "        \"optimizer_class\": optimizer_class,\n",
    "        \"hyperparameters\": hyperparams\n",
    "    }\n",
    "\n",
    "\n",
    "\n",
    "# If run as a script\n",
    "if __name__ == \"__main__\":\n",
    "\n",
    "    file_path = \"opt.py\"\n",
    "    info = extract_optimizer_info_from_file(file_path)\n",
    "    print(info)\n"
   ]
  },
  {
   "cell_type": "code",
   "execution_count": 7,
   "metadata": {},
   "outputs": [
    {
     "name": "stdout",
     "output_type": "stream",
     "text": [
      "{'lr': [-5.0, -2.0], 'beta': [0.6, 0.99], 'eps': [-12.3, -1.0], 'weight_decay': [-3.0, -0.7]}\n"
     ]
    }
   ],
   "source": [
    "d = {\n",
    "    'lr': [-5.0, -2.0],\n",
    "    'beta': [0.6, 0.99],\n",
    "    'eps': [-12.3, -1.0],\n",
    "    'weight_decay': [-3.0, -0.7],\n",
    "    'correct_bias': True\n",
    "}\n",
    "\n",
    "list_only = {k: v for k, v in d.items() if isinstance(v, list)}\n",
    "print(list_only)\n"
   ]
  }
 ],
 "metadata": {
  "kernelspec": {
   "display_name": "mamba2",
   "language": "python",
   "name": "python3"
  },
  "language_info": {
   "codemirror_mode": {
    "name": "ipython",
    "version": 3
   },
   "file_extension": ".py",
   "mimetype": "text/x-python",
   "name": "python",
   "nbconvert_exporter": "python",
   "pygments_lexer": "ipython3",
   "version": "3.10.14"
  }
 },
 "nbformat": 4,
 "nbformat_minor": 2
}
